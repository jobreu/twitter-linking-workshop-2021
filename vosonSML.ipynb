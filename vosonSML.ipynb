{
 "cells": [
  {
   "cell_type": "markdown",
   "metadata": {},
   "source": [
    "# vosonSML"
   ]
  },
  {
   "cell_type": "markdown",
   "metadata": {},
   "source": [
    "The examples in this notebook are adapted from the [`vosonSML` *GitHub* repository](https://github.com/vosonlab/vosonSML)."
   ]
  },
  {
   "cell_type": "markdown",
   "metadata": {},
   "source": [
    "*Note*: Another good option for collecting network data via the [Twitter API v1.1](https://developer.twitter.com/en/docs/twitter-api/v1) is the [`twittercrawler` package](https://github.com/AndrewCarr24/twittercrawler)."
   ]
  },
  {
   "cell_type": "markdown",
   "metadata": {},
   "source": [
    "## Load packages"
   ]
  },
  {
   "cell_type": "markdown",
   "metadata": {},
   "source": [
    "In addition to `vosonSML`, we will load the [`magrittr` package](https://magrittr.tidyverse.org/index.html) so we can use the [pipe %>% operator](https://magrittr.tidyverse.org/reference/pipe.html) included in that package as well as the [`dplyr`](https://dplyr.tidyverse.org/) for some (minor) data wrangling."
   ]
  },
  {
   "cell_type": "code",
   "execution_count": null,
   "metadata": {},
   "outputs": [],
   "source": [
    "library(vosonSML)\n",
    "library(magrittr)\n",
    "library(dplyr)"
   ]
  },
  {
   "cell_type": "markdown",
   "metadata": {},
   "source": [
    "## Authentication"
   ]
  },
  {
   "cell_type": "markdown",
   "metadata": {},
   "source": [
    "To use `vosonSML` for collecting Twitter data, you need to create an access token using the API credentials for the app you created."
   ]
  },
  {
   "cell_type": "markdown",
   "metadata": {},
   "source": [
    "**NB**: You should treat all information relating to your API key like a password and never share it or post it publicly anywhere. Although nobody except you should be able to access your personal instance of this notebook (and your edits will also not be persistent if you do not have/use a *GESIS Notebooks* user account), if you want to be extra cautious, you can delete your API access information from the following cell after running it once (and save the notebook again after that)."
   ]
  },
  {
   "cell_type": "code",
   "execution_count": null,
   "metadata": {},
   "outputs": [],
   "source": [
    "twitterAuth <- Authenticate(\"twitter\", \n",
    "                            appName = \"My App\",\n",
    "                            apiKey = \"xxxxxxxxxxxx\",\n",
    "                            apiSecret = \"xxxxxxxxxxxx\",\n",
    "                            accessToken = \"xxxxxxxxxxxx\",\n",
    "                            accessTokenSecret = \"xxxxxxxxxxxx\")"
   ]
  },
  {
   "cell_type": "markdown",
   "metadata": {},
   "source": [
    "## Import list of users"
   ]
  },
  {
   "cell_type": "markdown",
   "metadata": {},
   "source": [
    "The file [twitter_accounts.csv](./data/twitter_accounts.csv) in the `data` folder of this repository contains the Twitter screen names of [*GESIS - Leibniz Institute for the Social Sciences*](https://www.gesis.org/en/home) and the [*Social Data Science Lab*](http://socialdatalab.net/) at *Cardiff University* which we will use in the following examples."
   ]
  },
  {
   "cell_type": "code",
   "execution_count": null,
   "metadata": {},
   "outputs": [],
   "source": [
    "users_df <- read.csv(\"./data/twitter_accounts.csv\")\n",
    "users = as.character(users_df$Screen.Name)"
   ]
  },
  {
   "cell_type": "markdown",
   "metadata": {},
   "source": [
    "## Build a search query"
   ]
  },
  {
   "cell_type": "markdown",
   "metadata": {},
   "source": [
    "In the next cell, we will construct a search query for getting tweets from the accounts in our user list by using basic string operations and a [regular expression](https://en.wikipedia.org/wiki/Regular_expression)."
   ]
  },
  {
   "cell_type": "code",
   "execution_count": null,
   "metadata": {},
   "outputs": [],
   "source": [
    "query <- gsub('.{4}$', '', paste0(\"from:\", users, \" OR \", collapse = \"\"))"
   ]
  },
  {
   "cell_type": "markdown",
   "metadata": {},
   "source": [
    "## Search & collect tweets"
   ]
  },
  {
   "cell_type": "markdown",
   "metadata": {},
   "source": [
    "Using the credentials and the search query we created before, we can now search for and collect tweets. In the function below, we set the maximum number of tweets to 100 and include retweets."
   ]
  },
  {
   "cell_type": "code",
   "execution_count": null,
   "metadata": {},
   "outputs": [],
   "source": [
    "user_tweets <- twitterAuth %>%\n",
    "  Collect(searchTerm = query,\n",
    "          searchType = \"recent\",\n",
    "          numTweets = 100,\n",
    "          includeRetweets = TRUE,\n",
    "          retryOnRateLimit = TRUE,\n",
    "          writeToFile = FALSE,\n",
    "          verbose = TRUE)"
   ]
  },
  {
   "cell_type": "markdown",
   "metadata": {},
   "source": [
    "**NB**: This function uses the [standard search API](https://developer.twitter.com/en/docs/twitter-api/v1/tweets/search/overview) which only returns tweets for the last 7 days."
   ]
  },
  {
   "cell_type": "markdown",
   "metadata": {},
   "source": [
    "Instead of searching for tweets from specific accounts, we can, e.g., also search for tweets that use a specific hashtag."
   ]
  },
  {
   "cell_type": "code",
   "execution_count": null,
   "metadata": {},
   "outputs": [],
   "source": [
    "hashtag_tweets <- twitterAuth %>%\n",
    "  Collect(searchTerm = \"#rstats\",\n",
    "          searchType = \"recent\",\n",
    "          numTweets = 100,\n",
    "          includeRetweets = FALSE,\n",
    "          retryOnRateLimit = TRUE,\n",
    "          writeToFile = FALSE,\n",
    "          verbose = TRUE)"
   ]
  },
  {
   "cell_type": "markdown",
   "metadata": {},
   "source": [
    "It is, of course, possible to construct other (and more complex) [search queries](https://developer.twitter.com/en/docs/twitter-api/tweets/search/integrate/build-a-query) using all options the Twitter API offers for this."
   ]
  },
  {
   "cell_type": "markdown",
   "metadata": {},
   "source": [
    "## Process & save results"
   ]
  },
  {
   "cell_type": "markdown",
   "metadata": {},
   "source": [
    "The `user_tweets` object has a special kind of class which is relevant if we want to further work with it using the `vosonSML` package (e.g., for network analysis)."
   ]
  },
  {
   "cell_type": "code",
   "execution_count": null,
   "metadata": {},
   "outputs": [],
   "source": [
    "class(user_tweets)"
   ]
  },
  {
   "cell_type": "markdown",
   "metadata": {},
   "source": [
    "If we look at the types of the columns included in the `user_tweets` object, we see that it includes a couple of list-columns. These cannot be saved in a `.csv` file with the base `R` function `write.csv()`."
   ]
  },
  {
   "cell_type": "code",
   "execution_count": null,
   "metadata": {},
   "outputs": [],
   "source": [
    "sapply(user_tweets, class)"
   ]
  },
  {
   "cell_type": "markdown",
   "metadata": {},
   "source": [
    "We could change the list-columns into vectors (e.g., using the [`unnest()` function](https://tidyr.tidyverse.org/reference/nest.html) from the [`tidyr` package](https://tidyr.tidyverse.org/index.html)). However, to keep it simple here, we will just remove all list-columns and change the class of the `user_tweets` object to dataframe so that we can save the resulting object in a `.csv` file."
   ]
  },
  {
   "cell_type": "code",
   "execution_count": null,
   "metadata": {},
   "outputs": [],
   "source": [
    "user_tweets_df <- user_tweets %>% \n",
    "    as.data.frame() %>%\n",
    "    select(where(~ !is.list(.x)))"
   ]
  },
  {
   "cell_type": "code",
   "execution_count": null,
   "metadata": {},
   "outputs": [],
   "source": [
    "write.csv(user_tweets_df, \"./data/voson_tweets.csv\")"
   ]
  }
 ],
 "metadata": {
  "kernelspec": {
   "display_name": "R",
   "language": "R",
   "name": "ir"
  },
  "language_info": {
   "codemirror_mode": "r",
   "file_extension": ".r",
   "mimetype": "text/x-r-source",
   "name": "R",
   "pygments_lexer": "r",
   "version": "3.6.1"
  }
 },
 "nbformat": 4,
 "nbformat_minor": 4
}
