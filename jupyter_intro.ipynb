{
 "cells": [
  {
   "cell_type": "markdown",
   "metadata": {},
   "source": [
    "# Introduction to Jupyter Notebooks"
   ]
  },
  {
   "cell_type": "markdown",
   "metadata": {},
   "source": [
    "What you are using right now is called a *Jupyter Notebook*. [`Jupyter`](https://jupyter.org/) stands for [`Julia`](https://julialang.org/), [`Python`](https://www.python.org/), [`R`](https://www.r-project.org/) which are the three most popular programming languages in data science. *Jupyter Notebooks* are an implementation of the concept of [literate programming](https://en.wikipedia.org/wiki/Literate_programming) as they combine text, code, and the output of that code in one document."
   ]
  },
  {
   "cell_type": "markdown",
   "metadata": {},
   "source": [
    "## Cells"
   ]
  },
  {
   "cell_type": "markdown",
   "metadata": {},
   "source": [
    "There are two types of cells in Jupyter Notebooks: \n",
    "* Code cells\n",
    "* Text cells"
   ]
  },
  {
   "cell_type": "markdown",
   "metadata": {},
   "source": [
    "### Text Cells"
   ]
  },
  {
   "cell_type": "markdown",
   "metadata": {},
   "source": [
    "Text cells are what you are reading right here. They are written in [`Markdown`](https://en.wikipedia.org/wiki/Markdown). `Markdown` is a so-called markup language which allows the simple formatting of texts. With `Markdown` it is, e.g., possible to embed hyperlinks (as is the case for the words `Jupyter`, `Julia`, `Python`, `R`, and literare programming in the first paragraph). The [`Markdown` Guide](https://www.markdownguide.org/) provides a good introduction and the [`Markdown` Cheatsheet by Adam Pritchard](https://github.com/adam-p/markdown-here/wiki/Markdown-Cheatsheet) also gives a good overview. To be precise, Jupyter Notebooks use *GitHub-Flavored Markdown* (developed for the code sharing platform [*GitHub*](https://github.com/); hence the name) which offers a few specific and additional [formatting options](https://docs.github.com/en/free-pro-team@latest/github/writing-on-github/basic-writing-and-formatting-syntax)."
   ]
  },
  {
   "cell_type": "markdown",
   "metadata": {},
   "source": [
    "### Code Cells"
   ]
  },
  {
   "cell_type": "markdown",
   "metadata": {},
   "source": [
    "Code cells contain executable code. In which programming language the code can be written depends on the so-called [kernel](https://jupyter.readthedocs.io/en/latest/projects/kernels.html) that is used for the notebook. You can see which kernel is being used in the upper right corner of the document (next to the circle). As you can see there, this notebook uses an `R` kernel."
   ]
  },
  {
   "cell_type": "markdown",
   "metadata": {},
   "source": [
    "## Interacting & editing"
   ]
  },
  {
   "cell_type": "markdown",
   "metadata": {},
   "source": [
    "### Executing code cells"
   ]
  },
  {
   "cell_type": "markdown",
   "metadata": {},
   "source": [
    "You can execute code cells by first clicking the cell and then hitting the \"Play\" button in the menu in the upper left corner of the notebook. Alternatively, you can also press *Ctrl + Enter/Return* (or *Shift + Enter/Return* to directly jump to the next code cell after executing the current one). There are many other keyboard shortcuts for Jupyter Notebooks. Many of those are listed in a [blog post by Ventsislav Yordanov](https://towardsdatascience.com/jypyter-notebook-shortcuts-bf0101a98330)."
   ]
  },
  {
   "cell_type": "markdown",
   "metadata": {},
   "source": [
    "The following cell is a code cell in which we load an `R` package that is used in another notebook in this repository. You can see that this is a code cell by the square brackets to the left of it. When the code is running, there will be an asterisk \\* displayed in these brackets. Once the code has been executed, a number will appear in the brackets. This number indicates in what order the code cells have been executed. This is especially helpful for code cells that do not produce any output."
   ]
  },
  {
   "cell_type": "code",
   "execution_count": null,
   "metadata": {},
   "outputs": [],
   "source": [
    "library(rtweet)"
   ]
  },
  {
   "cell_type": "markdown",
   "metadata": {},
   "source": [
    "Text cells can also be executed. In that case, instead of the input (Markdown code) the output (formatted text) is displayed. In this notebook, all code cells have already been executed, so that the formatted text is displayed."
   ]
  },
  {
   "cell_type": "markdown",
   "metadata": {},
   "source": [
    "### Editing cells"
   ]
  },
  {
   "cell_type": "markdown",
   "metadata": {},
   "source": [
    "There are tro modes in Jupyter Notebooks:\n",
    "* Command Mode\n",
    "* Edit Mode"
   ]
  },
  {
   "cell_type": "markdown",
   "metadata": {},
   "source": [
    "The Command Mode allows you to execute code cells, add new cells, or delete existing cells. With the Edit Mode you can edit the content of cells. You can see which mode you are currently in by looking at the bottom-right corner of the notebook (Mode: Edit or Mode: Command). To switch to Edit Mode, you can select a cell and hit Return/Enter. Alternatively, you can also just click (code cell) or double-click (text cell) a cell. To switch (back) to Command Mode, you can either execute the cell or press *Esc(ape)*."
   ]
  },
  {
   "cell_type": "markdown",
   "metadata": {},
   "source": [
    "You can also add new cells in Command Mode. To add a new cell above the current one, you can press *a* (for \"above\"). For adding a cell below the current one, you can press *b* (\"below\")."
   ]
  },
  {
   "cell_type": "markdown",
   "metadata": {},
   "source": [
    "You can also switch cell types. The default for new cells is that they are code cells. You can either change the cell type through the menu of the notebook (via the small dropdown menu that indicates the current cell type) or by using the keyboard shortcuts *m* (for text/Markdown) and *y* (for code); you have to be in command mode for this."
   ]
  },
  {
   "cell_type": "markdown",
   "metadata": {},
   "source": [
    "To delete a cell, you need to select it and press *d* twice."
   ]
  },
  {
   "cell_type": "markdown",
   "metadata": {},
   "source": [
    "### Jupyter Lab menu"
   ]
  },
  {
   "cell_type": "markdown",
   "metadata": {},
   "source": [
    "We are using [*Jupyter Lab*](https://jupyterlab.readthedocs.io/en/stable/) here to interact with (and edit) the notebooks. You can find the Jupyter Lab menu on the left-hand side. You can see a file explorer there (similar to the one you know from your OS) which allows you to select and open files. Jupyter Notebooks are the files with the file extension `.ipynb`. You can also open a couple of other file types in Jupyter Lab, such as `.csv` files. You can also move to different folders, create new files, or upload files from your local machine via the explorer."
   ]
  },
  {
   "cell_type": "markdown",
   "metadata": {},
   "source": [
    "Via the *File* menu you can, e.g., save notebooks or export them in a different file format. You can directly download a notebook as a `.ipynb` file by right-clicking on the respective file in the explorer and choosing *Download*."
   ]
  },
  {
   "cell_type": "markdown",
   "metadata": {},
   "source": [
    "### Further information"
   ]
  },
  {
   "cell_type": "markdown",
   "metadata": {},
   "source": [
    "The official documentation for [Jupyter Notebooks](https://jupyter-notebook.readthedocs.io/en/stable/notebook.html) and [Jupyter Lab](https://jupyterlab.readthedocs.io/en/latest/user/interface.html) are good resources for further information. In addition, there are many free Jupyter Notebook tutorials online. (e.g., by [Dataquest](https://www.dataquest.io/blog/jupyter-notebook-tutorial/))."
   ]
  },
  {
   "cell_type": "markdown",
   "metadata": {},
   "source": [
    "### Troubleshooting 101"
   ]
  },
  {
   "cell_type": "markdown",
   "metadata": {},
   "source": [
    "In case something doesn't work when executing code in a Jupyter Notebook, there are a few things you can try:\n",
    "1. Run the code cell again.\n",
    "1. If running the cell should take unexpectedly long (as indicated by the \\* symbol in the brackets next to the code cell), you can interrupt the kernel by pressing the \"Stop button symbol\" in the notebook menu in the upper left corner of the document/tab.\n",
    "1. If that does not help, you can restart the kernel via the Jupyter Menu on the left-hand side: *Kernel* -> *Restart Kernel...*\n",
    "1. Another variation of \"Have you tried turning it off and on again?\" for Jupyter Notebooks is closing and the reopening the notebook document."
   ]
  }
 ],
 "metadata": {
  "kernelspec": {
   "display_name": "R",
   "language": "R",
   "name": "ir"
  },
  "language_info": {
   "codemirror_mode": "r",
   "file_extension": ".r",
   "mimetype": "text/x-r-source",
   "name": "R",
   "pygments_lexer": "r",
   "version": "3.6.1"
  }
 },
 "nbformat": 4,
 "nbformat_minor": 4
}
